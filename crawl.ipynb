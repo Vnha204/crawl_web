{
 "cells": [
  {
   "cell_type": "code",
   "execution_count": 41,
   "metadata": {},
   "outputs": [],
   "source": [
    "import requests\n",
    "from bs4 import BeautifulSoup\n",
    "import json\n",
    "\n",
    "url = \"https://homedy.com\"\n",
    "t = \"/ban-nha-dat\"\n",
    "# r = requests.get(url + t)\n",
    "# soup = BeautifulSoup(r.text, 'html.parser')\n",
    "# print (soup)"
   ]
  },
  {
   "cell_type": "code",
   "execution_count": 42,
   "metadata": {},
   "outputs": [],
   "source": [
    "def find_link(soup, url):\n",
    "    l = []\n",
    "    a_links = soup.find_all('a',href=True, attrs = {\"class\" : \"title padding-hoz\"})\n",
    "    for a_link in a_links:\n",
    "        l.append(url + a_link['href'])\n",
    "    return l\n",
    "# for i in find_link(soup, url):\n",
    "#     print(i)"
   ]
  },
  {
   "cell_type": "code",
   "execution_count": 43,
   "metadata": {},
   "outputs": [],
   "source": [
    "def find_data(soup, url):\n",
    "    id = soup.find_all(\"p\", attrs= {\"class\" : \"code\"})[3].text.strip()\n",
    "    title = soup.find_all('h1')[0].text.strip()\n",
    "    address = soup.find_all(\"div\", attrs= {\"class\" : \"address\"})[0].text.strip()\n",
    "    price_area = soup.find_all(\"div\", attrs = {\"class\" : \"short-item\"})\n",
    "    price = price_area[0].find_all('strong')[0].text.strip()\n",
    "    price = price.split('\\n')\n",
    "    if price[1] == \"Triệu\":\n",
    "        price[0] = price[0].split(' ')\n",
    "        price[0][0] = '.'.join(price[0][0].split(','))\n",
    "        price[0][0] = float(price[0][0])  * 1000000\n",
    "    elif price[1] == \"Tỷ\":\n",
    "        price[0] = price[0].split(' ')\n",
    "        price[0][0] = '.'.join(price[0][0].split(','))\n",
    "        price[0][0] = float(price[0][0])  * 1000000000\n",
    "    area = price_area[1].find_all('strong')[0].text.strip()\n",
    "    area = ' '.join(area.split('\\n'))\n",
    "    time = soup.find_all(\"p\", attrs = {\"class\" : \"code\"})[0].text.strip()\n",
    "    image_list = soup.find_all(\"a\", href = True, attrs = {\"class\" : \"image-popup fh5co-board-img\"})\n",
    "    if len(image_list) != 0:\n",
    "        image = image_list[0]['href']\n",
    "    else:\n",
    "        image = None\n",
    "    dict = {'id' : id, 'title' : title, 'address': address, 'price': price[0][0], 'area': area, 'time' : time, 'url' : url, 'image' : image}\n",
    "    return dict"
   ]
  },
  {
   "cell_type": "code",
   "execution_count": 44,
   "metadata": {},
   "outputs": [],
   "source": [
    "l = []\n",
    "i = 1\n",
    "while i < 51:\n",
    "    if i == 1:\n",
    "        r = requests.get(url + t)\n",
    "    else:\n",
    "        r = requests.get(url + t + \"/p\" + str(i))\n",
    "    soup = BeautifulSoup(r.text, 'html.parser')\n",
    "    l.extend(find_link(soup, url))\n",
    "    i+=1\n",
    "# for i in l:\n",
    "#     print(i)"
   ]
  },
  {
   "cell_type": "code",
   "execution_count": 45,
   "metadata": {},
   "outputs": [],
   "source": [
    "nha = []\n",
    "for i in l:\n",
    "    try:\n",
    "        re = requests.get(i)\n",
    "        s = BeautifulSoup(re.text, 'html.parser')\n",
    "        res = find_data(s, i)\n",
    "        nha.append(res)\n",
    "    except:\n",
    "        continue\n",
    "# for i in nha:\n",
    "#     print(i)"
   ]
  },
  {
   "cell_type": "code",
   "execution_count": 46,
   "metadata": {},
   "outputs": [
    {
     "name": "stdout",
     "output_type": "stream",
     "text": [
      "Done\n"
     ]
    }
   ],
   "source": [
    "with open('Bds1.json', 'w') as file:\n",
    "    json.dump(nha, file)\n",
    "\n",
    "print(\"Done\")"
   ]
  }
 ],
 "metadata": {
  "kernelspec": {
   "display_name": "Python 3",
   "language": "python",
   "name": "python3"
  },
  "language_info": {
   "codemirror_mode": {
    "name": "ipython",
    "version": 3
   },
   "file_extension": ".py",
   "mimetype": "text/x-python",
   "name": "python",
   "nbconvert_exporter": "python",
   "pygments_lexer": "ipython3",
   "version": "3.12.1"
  }
 },
 "nbformat": 4,
 "nbformat_minor": 2
}
